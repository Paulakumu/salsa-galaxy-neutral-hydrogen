{
 "cells": [
  {
   "cell_type": "markdown",
   "metadata": {},
   "source": [
    "Importing packages"
   ]
  },
  {
   "cell_type": "code",
   "execution_count": 87,
   "metadata": {},
   "outputs": [],
   "source": [
    "import numpy as np\n",
    "import matplotlib.pyplot as plt\n",
    "import matplotlib\n",
    "font={'size':14}\n",
    "matplotlib.rc('font',**font)"
   ]
  },
  {
   "cell_type": "markdown",
   "metadata": {},
   "source": [
    "Load salsa data(galactic longitude 25-210 degrees). The data is gausian fitted from fits files using salsaj software and combined into one text file. The fits data was recorded using the SALSA 2.3m telescope controlled remotely in sweeden"
   ]
  },
  {
   "cell_type": "code",
   "execution_count": 88,
   "metadata": {},
   "outputs": [],
   "source": [
    "salsa=np.loadtxt(\"data.txt\")"
   ]
  },
  {
   "cell_type": "markdown",
   "metadata": {},
   "source": [
    "Limit data to the first galaxy quadrant(25-80 degrees) with max recorded relative velocity for ploting the rotation curve"
   ]
  },
  {
   "cell_type": "code",
   "execution_count": 89,
   "metadata": {},
   "outputs": [],
   "source": [
    "rcurve_data=np.empty([1,2],dtype='float32')\n",
    "for j in range(25,85,5):\n",
    "    for i in range(salsa.shape[0]):\n",
    "        if salsa[i,0]==j:\n",
    "            val1=salsa[i,0].copy()\n",
    "            val2=salsa[i,1].copy()\n",
    "            l=np.array([val1,val2])          \n",
    "    rcurve_data=np.vstack([rcurve_data,l])\n",
    "rcurve_data=rcurve_data[1::]\n",
    "\n",
    "           "
   ]
  },
  {
   "cell_type": "markdown",
   "metadata": {},
   "source": [
    "Define a function to convert degrees into radians"
   ]
  },
  {
   "cell_type": "code",
   "execution_count": 90,
   "metadata": {},
   "outputs": [],
   "source": [
    "def radians(x):\n",
    "    return ((np.pi*x)/180)"
   ]
  },
  {
   "cell_type": "markdown",
   "metadata": {},
   "source": [
    "Convert all degree values in rotation curve data into radians"
   ]
  },
  {
   "cell_type": "code",
   "execution_count": 91,
   "metadata": {},
   "outputs": [],
   "source": [
    "for i in range(rcurve_data.shape[0]):\n",
    "    rcurve_data[i,0]=radians(rcurve_data[i,0])\n"
   ]
  },
  {
   "cell_type": "markdown",
   "metadata": {},
   "source": [
    "Define a function that returns rotation radius from given galactic longitude"
   ]
  },
  {
   "cell_type": "code",
   "execution_count": 92,
   "metadata": {},
   "outputs": [],
   "source": [
    "def ro_radius(x):\n",
    "    return (8.5 * np.sin(x))\n"
   ]
  },
  {
   "cell_type": "markdown",
   "metadata": {},
   "source": [
    "Define a function that returns rotation velocity from given galactic longitude and max measured relatve velocity"
   ]
  },
  {
   "cell_type": "code",
   "execution_count": 93,
   "metadata": {},
   "outputs": [],
   "source": [
    "def ro_velocity(l,x):\n",
    "    return (x+(220*np.sin(l)))"
   ]
  },
  {
   "cell_type": "markdown",
   "metadata": {},
   "source": [
    "Evaluate rotation radius for all galactic longitude"
   ]
  },
  {
   "cell_type": "code",
   "execution_count": 94,
   "metadata": {},
   "outputs": [],
   "source": [
    "rotation_radius=np.empty([1,1])\n",
    "for i in range(rcurve_data.shape[0]):\n",
    "    radius=ro_radius(rcurve_data[i,0].copy())\n",
    "    rotation_radius=np.vstack([rotation_radius,radius])\n",
    "rotation_radius=rotation_radius[1::]"
   ]
  },
  {
   "cell_type": "markdown",
   "metadata": {},
   "source": [
    "Evaluate rotation velocity for all galactic longitude and relative velocity"
   ]
  },
  {
   "cell_type": "code",
   "execution_count": 95,
   "metadata": {},
   "outputs": [],
   "source": [
    "rotation_velocity=np.empty([1,1])\n",
    "for i in range(rcurve_data.shape[0]):\n",
    "    velocity=ro_velocity(rcurve_data[i,0].copy(),rcurve_data[i,1].copy())\n",
    "    rotation_velocity=np.vstack([rotation_velocity,velocity])\n",
    "    \n",
    "rotation_velocity=rotation_velocity[1::]"
   ]
  },
  {
   "cell_type": "markdown",
   "metadata": {},
   "source": [
    "Combine rotation radius and rotation velocity to make rotation curve plot data"
   ]
  },
  {
   "cell_type": "code",
   "execution_count": 96,
   "metadata": {},
   "outputs": [],
   "source": [
    "rotationcurve_plot = np.hstack([rotation_radius,rotation_velocity])"
   ]
  },
  {
   "cell_type": "markdown",
   "metadata": {},
   "source": [
    "Plot the rotation curve data"
   ]
  },
  {
   "cell_type": "code",
   "execution_count": 97,
   "metadata": {},
   "outputs": [
    {
     "data": {
      "text/plain": [
       "<function matplotlib.pyplot.show>"
      ]
     },
     "execution_count": 97,
     "metadata": {},
     "output_type": "execute_result"
    },
    {
     "data": {
      "image/png": "[encoded data removed]",
      "text/plain": [
       "<matplotlib.figure.Figure at 0x7f4b416f60f0>"
      ]
     },
     "metadata": {},
     "output_type": "display_data"
    }
   ],
   "source": [
    "for i in range (rotationcurve_plot.shape[0]):\n",
    "    r=rotationcurve_plot[i,0]\n",
    "    v=rotationcurve_plot[i,1]\n",
    "    plt.plot(r,v,'*k')\n",
    "plt.axis([0,10,0,250])\n",
    "plt.title('Rotation curve of the milky way galaxy')\n",
    "plt.xlabel('Distance from the galactic center[kpc]')\n",
    "plt.ylabel('Rotation velocity [km/s]')\n",
    "plt.tight_layout()\n",
    "plt.show"
   ]
  },
  {
   "cell_type": "markdown",
   "metadata": {},
   "source": [
    "convet all the degrees in salsa data from 25-210 into radians for mappng the galaxy"
   ]
  },
  {
   "cell_type": "code",
   "execution_count": 98,
   "metadata": {},
   "outputs": [],
   "source": [
    "for i in range(salsa.shape[0]):\n",
    "    salsa[i,0]=radians(salsa[i,0])"
   ]
  },
  {
   "cell_type": "markdown",
   "metadata": {},
   "source": [
    "Define a function to get the rotation radius for a given galactic longitude and relative velocity"
   ]
  },
  {
   "cell_type": "code",
   "execution_count": 99,
   "metadata": {},
   "outputs": [],
   "source": [
    "def get_rotation_radius(l,v):\n",
    "    return (8.5*220*np.sin(l))/((220*np.sin(l))+v)"
   ]
  },
  {
   "cell_type": "markdown",
   "metadata": {},
   "source": [
    "Evaluate the rotation radius at each galactic longitude and vecocity"
   ]
  },
  {
   "cell_type": "code",
   "execution_count": 100,
   "metadata": {},
   "outputs": [],
   "source": [
    "all_rotation_radius=np.empty([1,1],dtype=\"float32\")\n",
    "for i in range(salsa.shape[0]):\n",
    "    a_radius=get_rotation_radius(salsa[i,0],salsa[i,1])\n",
    "    all_rotation_radius=np.vstack([all_rotation_radius,a_radius])\n",
    "    \n",
    "all_rotation_radius=all_rotation_radius[1::]"
   ]
  },
  {
   "cell_type": "markdown",
   "metadata": {},
   "source": [
    "Add rotation radius column to the salsa data"
   ]
  },
  {
   "cell_type": "code",
   "execution_count": 101,
   "metadata": {},
   "outputs": [],
   "source": [
    "new_salsa=np.hstack([salsa,all_rotation_radius])"
   ]
  },
  {
   "cell_type": "markdown",
   "metadata": {},
   "source": [
    "Define functions to convert rotation radius and galactic longitude to carteesian x-y cordinates"
   ]
  },
  {
   "cell_type": "code",
   "execution_count": 102,
   "metadata": {},
   "outputs": [],
   "source": [
    "def x_value(l,r):\n",
    "    return (r*np.cos(l-(radians(90))))\n",
    "\n",
    "def y_value(l,r):\n",
    "    return (r*np.sin(l-(radians(90))))"
   ]
  },
  {
   "cell_type": "markdown",
   "metadata": {},
   "source": [
    "Convert rotation radius and galactic longitude to carteesian x-y cordinates"
   ]
  },
  {
   "cell_type": "code",
   "execution_count": 103,
   "metadata": {},
   "outputs": [],
   "source": [
    "x_y_values=np.empty([1,2],dtype=float)\n",
    "for i in range(new_salsa.shape[0]):\n",
    "    x=x_value(new_salsa[i,0],new_salsa[i,2])\n",
    "    y=y_value(new_salsa[i,0],new_salsa[i,2])\n",
    "    x_y=np.array([x,y]) \n",
    "    x_y_values=np.vstack([x_y_values,x_y])\n",
    "\n",
    "x_y_values=x_y_values[1::]"
   ]
  },
  {
   "cell_type": "markdown",
   "metadata": {},
   "source": [
    "Make the center of the galaxy at the origin or skip this to leave the sun at the origin"
   ]
  },
  {
   "cell_type": "code",
   "execution_count": 104,
   "metadata": {},
   "outputs": [],
   "source": [
    "for i in range(x_y_values.shape[0]):\n",
    "    x_y_values[i,1]=(x_y_values[i,1])+8.5\n"
   ]
  },
  {
   "cell_type": "markdown",
   "metadata": {},
   "source": [
    "Plot the position of the gass clouds in x-y cordinates"
   ]
  },
  {
   "cell_type": "code",
   "execution_count": 105,
   "metadata": {},
   "outputs": [
    {
     "data": {
      "text/plain": [
       "<function matplotlib.pyplot.show>"
      ]
     },
     "execution_count": 105,
     "metadata": {},
     "output_type": "execute_result"
    },
    {
     "data": {
      "image/png": "[encoded data removed]",
      "text/plain": [
       "<matplotlib.figure.Figure at 0x7f4b4180a630>"
      ]
     },
     "metadata": {},
     "output_type": "display_data"
    }
   ],
   "source": [
    "for i in range (x_y_values.shape[0]):\n",
    "    r=x_y_values[i,0]\n",
    "    v=x_y_values[i,1]\n",
    "    plt.plot(r,v,'*k')\n",
    "plt.axis([-20,20,-30,30])\n",
    "plt.title('Milky way galaxy spiral arms')\n",
    "plt.xlabel('X[kpc]')\n",
    "plt.ylabel('Y[kpc]')\n",
    "plt.tight_layout()\n",
    "plt.show"
   ]
  },
  {
   "cell_type": "code",
   "execution_count": null,
   "metadata": {},
   "outputs": [],
   "source": []
  }
 ],
 "metadata": {
  "kernelspec": {
   "display_name": "Python 3",
   "language": "python",
   "name": "python3"
  },
  "language_info": {
   "codemirror_mode": {
    "name": "ipython",
    "version": 3
   },
   "file_extension": ".py",
   "mimetype": "text/x-python",
   "name": "python",
   "nbconvert_exporter": "python",
   "pygments_lexer": "ipython3",
   "version": "3.6.4"
  }
 },
 "nbformat": 4,
 "nbformat_minor": 2
}
